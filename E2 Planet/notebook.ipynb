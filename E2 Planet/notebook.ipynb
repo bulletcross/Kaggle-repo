{
  "metadata": {
    "kernelspec": {
      "display_name": "Python 3",
      "language": "python",
      "name": "python3"
    },
    "language_info": {
      "codemirror_mode": {
        "name": "ipython",
        "version": 3
      },
      "file_extension": ".py",
      "mimetype": "text/x-python",
      "name": "python",
      "nbconvert_exporter": "python",
      "pygments_lexer": "ipython3",
      "version": "3.6.0"
    }
  },
  "nbformat": 4,
  "nbformat_minor": 0,
  "cells": [
    {
      "cell_type": "markdown",
      "source": "This is based on our official notebook - not something I can take credit for :)\nhttps://github.com/planetlabs/planet-amazon-deforestation/blob/master/planet_chip_examples.ipynb\n\n# *Planet: Understanding the Amazon from Space* challenge\n\nThis notebook will show you how to do some basic manipulation of the images and label files.",
      "metadata": {}
    },
    {
      "cell_type": "code",
      "source": "import sys\nimport os\nimport subprocess\n\nfrom six import string_types\n\n# Make sure you have all of these packages installed, e.g. via pip\nimport numpy as np\nimport pandas as pd\nimport seaborn as sns\nimport matplotlib.pyplot as plt\nimport matplotlib.image as mpimg\nimport scipy\nfrom skimage import io\nfrom scipy import ndimage\nfrom IPython.display import display\n%matplotlib inline",
      "execution_count": null,
      "outputs": [],
      "metadata": {}
    },
    {
      "cell_type": "code",
      "source": "!ls -lha ../input",
      "execution_count": null,
      "outputs": [],
      "metadata": {}
    },
    {
      "cell_type": "code",
      "source": "!ls -lha ../input/test-tif-v2 | wc -l",
      "execution_count": null,
      "outputs": [],
      "metadata": {}
    },
    {
      "cell_type": "markdown",
      "source": "## Setup\nSet `PLANET_KAGGLE_ROOT` to the proper directory where we've got the TIFF and JPEG zip files, and accompanying CSVs.",
      "metadata": {}
    },
    {
      "cell_type": "code",
      "source": "PLANET_KAGGLE_ROOT = os.path.abspath(\"../input/\")\nPLANET_KAGGLE_JPEG_DIR = os.path.join(PLANET_KAGGLE_ROOT, 'train-jpg')\nPLANET_KAGGLE_LABEL_CSV = os.path.join(PLANET_KAGGLE_ROOT, 'train_v2.csv')\nassert os.path.exists(PLANET_KAGGLE_ROOT)\nassert os.path.exists(PLANET_KAGGLE_JPEG_DIR)\nassert os.path.exists(PLANET_KAGGLE_LABEL_CSV)",
      "execution_count": null,
      "outputs": [],
      "metadata": {}
    },
    {
      "cell_type": "markdown",
      "source": "## Inspect image labels\nThe labels are in a CSV entitled `train.csv`. Note that each image can be tagged with multiple tags. We'll convert them to a \"one hot\" style representation where each label is a column:",
      "metadata": {}
    },
    {
      "cell_type": "code",
      "source": "!ls -lha /kaggle/input/train_v2.csv",
      "execution_count": null,
      "outputs": [],
      "metadata": {}
    },
    {
      "cell_type": "code",
      "source": "labels_df = pd.read_csv(PLANET_KAGGLE_LABEL_CSV)\nlabels_df.head()",
      "execution_count": null,
      "outputs": [],
      "metadata": {}
    },
    {
      "cell_type": "code",
      "source": "# Build list with unique labels\nlabel_list = []\nfor tag_str in labels_df.tags.values:\n    labels = tag_str.split(' ')\n    for label in labels:\n        if label not in label_list:\n            label_list.append(label)",
      "execution_count": null,
      "outputs": [],
      "metadata": {}
    },
    {
      "cell_type": "code",
      "source": "# Add onehot features for every label\nfor label in label_list:\n    labels_df[label] = labels_df['tags'].apply(lambda x: 1 if label in x.split(' ') else 0)\n# Display head\nlabels_df.head()",
      "execution_count": null,
      "outputs": [],
      "metadata": {}
    },
    {
      "cell_type": "code",
      "source": "# Histogram of label instances\nlabels_df[label_list].sum().sort_values().plot.bar()",
      "execution_count": null,
      "outputs": [],
      "metadata": {}
    },
    {
      "cell_type": "code",
      "source": "def make_cooccurence_matrix(labels):\n    numeric_df = labels_df[labels]; \n    c_matrix = numeric_df.T.dot(numeric_df)\n    sns.heatmap(c_matrix)\n    return c_matrix\n    \n# Compute the co-ocurrence matrix\nmake_cooccurence_matrix(label_list)",
      "execution_count": null,
      "outputs": [],
      "metadata": {}
    },
    {
      "cell_type": "markdown",
      "source": "Each image should have exactly one weather label:",
      "metadata": {}
    },
    {
      "cell_type": "code",
      "source": "weather_labels = ['clear', 'partly_cloudy', 'haze', 'cloudy']\nmake_cooccurence_matrix(weather_labels)",
      "execution_count": null,
      "outputs": [],
      "metadata": {}
    },
    {
      "cell_type": "markdown",
      "source": "But the land labels may overlap:",
      "metadata": {}
    },
    {
      "cell_type": "code",
      "source": "land_labels = ['primary', 'agriculture', 'water', 'cultivation', 'habitation']\nmake_cooccurence_matrix(land_labels)",
      "execution_count": null,
      "outputs": [],
      "metadata": {}
    },
    {
      "cell_type": "markdown",
      "source": "The rarer labels have very little overlap:",
      "metadata": {}
    },
    {
      "cell_type": "code",
      "source": "rare_labels = [l for l in label_list if labels_df[label_list].sum()[l] < 2000]\nmake_cooccurence_matrix(rare_labels)",
      "execution_count": null,
      "outputs": [],
      "metadata": {}
    },
    {
      "cell_type": "markdown",
      "source": "## Inspect images\nLet's display an image and visualize the pixel values. Here we will pick an image, load every single single band, then create RGB stack. These raw images are 16-bit (from 0 to 65535), and contain red, green, blue, and [Near infrared (NIR)](https://en.wikipedia.org/wiki/Infrared#Regions_within_the_infrared) channels. In this example, we are discarding the NIR band just to simplify the steps to visualize the image. However, you should probably keep it for ML classification.\n\nThe files can be easily read into numpy arrays with the skimage.",
      "metadata": {}
    },
    {
      "cell_type": "code",
      "source": "def sample_images(tags, n=None):\n    \"\"\"Randomly sample n images with the specified tags.\"\"\"\n    condition = True\n    if isinstance(tags, string_types):\n        raise ValueError(\"Pass a list of tags, not a single tag.\")\n    for tag in tags:\n        condition = condition & labels_df[tag] == 1\n    if n is not None:\n        return labels_df[condition].sample(n)\n    else:\n        return labels_df[condition]",
      "execution_count": null,
      "outputs": [],
      "metadata": {}
    },
    {
      "cell_type": "code",
      "source": "def load_image(filename):\n    '''Look through the directory tree to find the image you specified\n    (e.g. train_10.tif vs. train_10.jpg)'''\n    for dirname in os.listdir(PLANET_KAGGLE_ROOT):\n        path = os.path.abspath(os.path.join(PLANET_KAGGLE_ROOT, dirname, filename))\n        if os.path.exists(path):\n            print('Found image {}'.format(path))\n            return io.imread(path)\n    # if you reach this line, you didn't find the image you're looking for\n    print('Load failed: could not find image {}'.format(path))\n    \ndef sample_to_fname(sample_df, row_idx, suffix='tif'):\n    '''Given a dataframe of sampled images, get the\n    corresponding filename.'''\n    fname = sample_df.get_value(sample_df.index[row_idx], 'image_name')\n    return '{}.{}'.format(fname, suffix)",
      "execution_count": null,
      "outputs": [],
      "metadata": {}
    },
    {
      "cell_type": "markdown",
      "source": "Let's look at an individual image. First, we'll plot a histogram of pixel values in each channel. Note how the intensities are distributed in a relatively narrow region of the dynamic range",
      "metadata": {}
    },
    {
      "cell_type": "code",
      "source": "def plot_rgbn_histo(r, g, b, n):\n    for slice_, name, color in ((r,'r', 'red'),(g,'g', 'green'),(b,'b', 'blue'), (nir, 'nir', 'magenta')):\n        plt.hist(slice_.ravel(), bins=100, \n                 range=[0,rgb_image.max()], \n                 label=name, color=color, histtype='step')\n    plt.legend()",
      "execution_count": null,
      "outputs": [],
      "metadata": {}
    },
    {
      "cell_type": "code",
      "source": "s = sample_images(['primary', 'water', 'road'], n=1)\nfname = sample_to_fname(s, 0)\n\n# find the image in the data directory and load it\n# note the initial bgrn band ordering\nbgrn_image = load_image(fname)\n\n# extract the rgb values\nbgr_image = bgrn_image[:,:,:3]\nrgb_image = bgr_image[:, :, [2,1,0]]\n\n# extract the different bands\nb, g, r, nir = bgrn_image[:, :, 0], bgrn_image[:, :, 1], bgrn_image[:, :, 2], bgrn_image[:, :, 3]\n\n# plot a histogram of rgbn values\nplot_rgbn_histo(r, g, b, nir)",
      "execution_count": null,
      "outputs": [],
      "metadata": {}
    },
    {
      "cell_type": "markdown",
      "source": "We can look at each channel individually:",
      "metadata": {}
    },
    {
      "cell_type": "code",
      "source": "# Plot the bands\nfig = plt.figure()\nfig.set_size_inches(12, 4)\nfor i, (x, c) in enumerate(((r, 'r'), (g, 'g'), (b, 'b'), (nir, 'near-ir'))):\n    a = fig.add_subplot(1, 4, i+1)\n    a.set_title(c)\n    plt.imshow(x)",
      "execution_count": null,
      "outputs": [],
      "metadata": {}
    },
    {
      "cell_type": "markdown",
      "source": "But, when we try to look at the RGB image, something funny's going on!|",
      "metadata": {}
    },
    {
      "cell_type": "code",
      "source": "plt.imshow(rgb_image)",
      "execution_count": null,
      "outputs": [],
      "metadata": {}
    },
    {
      "cell_type": "markdown",
      "source": "### Calibrate colors for visual inspection",
      "metadata": {}
    },
    {
      "cell_type": "markdown",
      "source": "Yikes! That does not look pretty. This is not a problem for analytic purposes, but we can try some transformations to make the image look better for visual inspection.\n\nOne way of doing this is to normalize the image channels to a reference color curve. We'll show here how to estimate a reference color curve from other normalized images. We could choose a third party aerial image of a canopy , but here we will employ the JPEG images provided in the data set, which have already been color-corrected.  \n\nIn essence, the idea is to transform the pixel values of the test image so that their average and variance match the reference image data.\n\nGet a list of reference images to extract data from:",
      "metadata": {}
    },
    {
      "cell_type": "code",
      "source": "# Pull a list of 20000 image names\njpg_list = os.listdir(PLANET_KAGGLE_JPEG_DIR)[:20000]\n# Select a random sample of 100 among those\nnp.random.shuffle(jpg_list)\njpg_list = jpg_list[:100]",
      "execution_count": null,
      "outputs": [],
      "metadata": {}
    },
    {
      "cell_type": "code",
      "source": "print(jpg_list)",
      "execution_count": null,
      "outputs": [],
      "metadata": {}
    },
    {
      "cell_type": "markdown",
      "source": "Read each image (8-bit RGBA) and dump the pixels values to ref_colors, which contains buckets for R, G and B",
      "metadata": {}
    },
    {
      "cell_type": "code",
      "source": "ref_colors = [[],[],[]]\nfor _file in jpg_list:\n    # keep only the first 3 bands, RGB\n    _img = mpimg.imread(os.path.join(PLANET_KAGGLE_JPEG_DIR, _file))[:,:,:3]\n    # Flatten 2-D to 1-D\n    _data = _img.reshape((-1,3))\n    # Dump pixel values to aggregation buckets\n    for i in range(3): \n        ref_colors[i] = ref_colors[i] + _data[:,i].tolist()\n    \nref_colors = np.array(ref_colors)",
      "execution_count": null,
      "outputs": [],
      "metadata": {}
    },
    {
      "cell_type": "markdown",
      "source": "Visualize the histogram of the reference data",
      "metadata": {}
    },
    {
      "cell_type": "code",
      "source": "for i,color in enumerate(['r','g','b']):\n    plt.hist(ref_colors[i], bins=30, range=[0,255], label=color, color=color, histtype='step')\nplt.legend()\nplt.title('Reference color histograms')",
      "execution_count": null,
      "outputs": [],
      "metadata": {}
    },
    {
      "cell_type": "markdown",
      "source": "Compute the mean and variance for each channel in the reference data",
      "metadata": {}
    },
    {
      "cell_type": "code",
      "source": "ref_means = [np.mean(ref_colors[i]) for i in range(3)]\nref_stds = [np.std(ref_colors[i]) for i in range(3)]",
      "execution_count": null,
      "outputs": [],
      "metadata": {}
    },
    {
      "cell_type": "markdown",
      "source": "And now, we have a function that can calibrate any raw image reasonably well:",
      "metadata": {}
    },
    {
      "cell_type": "code",
      "source": "def calibrate_image(rgb_image):\n    # Transform test image to 32-bit floats to avoid \n    # surprises when doing arithmetic with it \n    calibrated_img = rgb_image.copy().astype('float32')\n\n    # Loop over RGB\n    for i in range(3):\n        # Subtract mean \n        calibrated_img[:,:,i] = calibrated_img[:,:,i]-np.mean(calibrated_img[:,:,i])\n        # Normalize variance\n        calibrated_img[:,:,i] = calibrated_img[:,:,i]/np.std(calibrated_img[:,:,i])\n        # Scale to reference \n        calibrated_img[:,:,i] = calibrated_img[:,:,i]*ref_stds[i] + ref_means[i]\n        # Clip any values going out of the valid range\n        calibrated_img[:,:,i] = np.clip(calibrated_img[:,:,i],0,255)\n\n    # Convert to 8-bit unsigned int\n    return calibrated_img.astype('uint8')",
      "execution_count": null,
      "outputs": [],
      "metadata": {}
    },
    {
      "cell_type": "markdown",
      "source": "Visualize the color histogram of the newly calibrated test image, and note that it's more evenly distributed throughout the dynamic range, and is closer to the reference data.",
      "metadata": {}
    },
    {
      "cell_type": "code",
      "source": "test_image_calibrated = calibrate_image(rgb_image)\nfor i,color in enumerate(['r','g','b']):\n    plt.hist(test_image_calibrated[:,:,i].ravel(), bins=30, range=[0,255], \n             label=color, color=color, histtype='step')\nplt.legend()\nplt.title('Calibrated image color histograms')",
      "execution_count": null,
      "outputs": [],
      "metadata": {}
    },
    {
      "cell_type": "markdown",
      "source": "And now we have something we can recognize!",
      "metadata": {}
    },
    {
      "cell_type": "code",
      "source": "plt.imshow(test_image_calibrated)",
      "execution_count": null,
      "outputs": [],
      "metadata": {}
    },
    {
      "cell_type": "markdown",
      "source": "Putting it all together, to show several images with your tags of choice. You may notice that the jpgs and tifs look a bit different. You can read about why that is here:\n    \n[A Hands-on Guide to Color Correction](https://www.planet.com/pulse/color-correction/)",
      "metadata": {}
    },
    {
      "cell_type": "code",
      "source": "sampled_images = sample_images(['clear', 'road', 'water'], n=3)\n\nfor i in range(len(sampled_images)):\n    tif = sample_to_fname(sampled_images, i, 'tif')\n    jpg = sample_to_fname(sampled_images, i, 'jpg')\n\n    try:\n        tif_img = load_image(tif)[:,:,:3]\n        jpg_img = load_image(jpg)[:,:,:3]\n\n        fig = plt.figure()\n        plt.imshow(calibrate_image(tif_img))\n\n        fig = plt.figure()\n        plt.imshow(calibrate_image(jpg_img))\n    except:\n        continue\n        \n        ",
      "execution_count": null,
      "outputs": [],
      "metadata": {}
    },
    {
      "cell_type": "markdown",
      "source": "## Image modification",
      "metadata": {}
    },
    {
      "cell_type": "markdown",
      "source": "You might want to rotate, flip, or otherwise modify the images for training purposes. Note that the dimensions of the image changes:",
      "metadata": {}
    },
    {
      "cell_type": "code",
      "source": "fig = plt.figure()\nfig.set_size_inches(12, 4)\nfor i, (x, c) in enumerate(((r, 'r'), (g, 'g'), (b, 'b'), (nir, 'near-ir'))):\n    a = fig.add_subplot(1, 4, i+1)\n    a.set_title(c)\n    plt.imshow(x)",
      "execution_count": null,
      "outputs": [],
      "metadata": {}
    },
    {
      "cell_type": "code",
      "source": "rotated = scipy.ndimage.rotate(rgb_image, angle=45)\nplt.imshow(rgb_image)\nplt.imshow(calibrate_image(rotated))\nrotated.shape",
      "execution_count": null,
      "outputs": [],
      "metadata": {}
    },
    {
      "cell_type": "markdown",
      "source": "Original Notebook by Jesus Martinez Manso and Benjamin Goldenberg\n\n(C) Planet 2017",
      "metadata": {}
    },
    {
      "cell_type": "code",
      "source": "",
      "execution_count": null,
      "outputs": [],
      "metadata": {}
    }
  ]
}