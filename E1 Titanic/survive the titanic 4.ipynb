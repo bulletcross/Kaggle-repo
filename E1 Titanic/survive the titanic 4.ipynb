{
 "cells": [
  {
   "cell_type": "code",
   "execution_count": 53,
   "metadata": {
    "collapsed": true
   },
   "outputs": [],
   "source": [
    "#Tensorflow does not support decision trees, skitlearn does\n",
    "#We will ensemle many decision trees to create a forest\n",
    "import sklearn.ensemble as ske\n",
    "import numpy as np\n",
    "import pandas as pd\n",
    "from sklearn import datasets\n",
    "from pandas import Series, DataFrame\n",
    "from patsy import dmatrices"
   ]
  },
  {
   "cell_type": "code",
   "execution_count": 54,
   "metadata": {
    "collapsed": true
   },
   "outputs": [],
   "source": [
    "data_file = pd.read_csv(\"train.csv\")\n",
    "data_file = data_file.drop(['Ticket','Cabin'], axis=1)\n",
    "data_file = data_file.dropna()\n",
    "\n",
    "test_file = pd.read_csv(\"test.csv\")\n",
    "#Add the result column\n",
    "test_file['Survived'] = 0.5\n",
    "test_file = test_file.drop(['Ticket','Cabin'], axis=1)\n",
    "test_file = test_file.fillna(test_file.mean())"
   ]
  },
  {
   "cell_type": "code",
   "execution_count": 55,
   "metadata": {
    "collapsed": false
   },
   "outputs": [
    {
     "name": "stdout",
     "output_type": "stream",
     "text": [
      "Mean accuracy of Random Forest Predictions on the data was: 0.918539325843\n"
     ]
    }
   ],
   "source": [
    "#Create the list of required columns to be compared, model to be trained on, identify the catagorical data\n",
    "valid_columns = 'Survived ~ Age + SibSp + Parch + C(Pclass) + C(Sex) + C(Embarked)'\n",
    "#Filtering the input and output values\n",
    "y_data, x_data = dmatrices(valid_columns, data=data_file, return_type='dataframe')\n",
    "#Converitng the 1-D array\n",
    "y_data = np.asarray(y_data).ravel()\n",
    "#Fit data on random forest model\n",
    "result = ske.RandomForestClassifier(n_estimators=100,criterion='entropy', max_depth=10).fit(x_data, y_data)\n",
    "\n",
    "score = result.score(x_data, y_data)\n",
    "print \"Mean accuracy of Random Forest Predictions on the data was: {0}\".format(score)"
   ]
  },
  {
   "cell_type": "code",
   "execution_count": 56,
   "metadata": {
    "collapsed": false
   },
   "outputs": [],
   "source": [
    "y_test,x_test = dmatrices(valid_columns, data=test_file, return_type='dataframe')\n",
    "prediction = result.predict(x_test)"
   ]
  },
  {
   "cell_type": "code",
   "execution_count": 57,
   "metadata": {
    "collapsed": false
   },
   "outputs": [],
   "source": [
    "raw_data = pd.read_csv(\"test.csv\")\n",
    "raw_data = raw_data.drop(['Pclass','Name','Sex','Age','SibSp','Parch','Ticket','Fare','Cabin','Embarked'],axis=1)\n",
    "raw_data['Survived'] = prediction\n",
    "raw_data.to_csv('out4.csv')"
   ]
  },
  {
   "cell_type": "code",
   "execution_count": null,
   "metadata": {
    "collapsed": true
   },
   "outputs": [],
   "source": []
  }
 ],
 "metadata": {
  "kernelspec": {
   "display_name": "Python 2",
   "language": "python",
   "name": "python2"
  },
  "language_info": {
   "codemirror_mode": {
    "name": "ipython",
    "version": 2
   },
   "file_extension": ".py",
   "mimetype": "text/x-python",
   "name": "python",
   "nbconvert_exporter": "python",
   "pygments_lexer": "ipython2",
   "version": "2.7.12"
  }
 },
 "nbformat": 4,
 "nbformat_minor": 1
}
