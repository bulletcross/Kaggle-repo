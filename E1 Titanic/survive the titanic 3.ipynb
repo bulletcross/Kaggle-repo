{
 "cells": [
  {
   "cell_type": "code",
   "execution_count": 1,
   "metadata": {
    "collapsed": true
   },
   "outputs": [],
   "source": [
    "#Application of SVM using tensorflow, seperated aout this procedure to reduce clutter\n",
    "#For brevity, we use linear seperator kernels, obvious from the 3d plot"
   ]
  },
  {
   "cell_type": "code",
   "execution_count": 2,
   "metadata": {
    "collapsed": false
   },
   "outputs": [
    {
     "name": "stdout",
     "output_type": "stream",
     "text": [
      "Populating the interactive namespace from numpy and matplotlib\n"
     ]
    },
    {
     "name": "stderr",
     "output_type": "stream",
     "text": [
      "/home/vishal/.local/lib/python2.7/site-packages/IPython/core/magics/pylab.py:161: UserWarning: pylab import has clobbered these variables: ['info', 'linalg', 'draw_if_interactive', 'random', 'fft', 'power']\n",
      "`%matplotlib` prevents importing * from pylab and numpy\n",
      "  \"\\n`%matplotlib` prevents importing * from pylab and numpy\"\n"
     ]
    }
   ],
   "source": [
    "import matplotlib.pyplot as plt\n",
    "import numpy as np\n",
    "import pandas as pd\n",
    "import tensorflow as tf\n",
    "from sklearn import datasets\n",
    "from tensorflow.python.framework import ops\n",
    "\n",
    "from pandas import Series, DataFrame\n",
    "\n",
    "ops.reset_default_graph()\n",
    "\n",
    "from pylab import *\n",
    "import matplotlib.pyplot as plt\n",
    "\n",
    "%pylab inline"
   ]
  },
  {
   "cell_type": "code",
   "execution_count": 3,
   "metadata": {
    "collapsed": false
   },
   "outputs": [
    {
     "data": {
      "text/html": [
       "<div>\n",
       "<table border=\"1\" class=\"dataframe\">\n",
       "  <thead>\n",
       "    <tr style=\"text-align: right;\">\n",
       "      <th></th>\n",
       "      <th>Survived</th>\n",
       "      <th>Pclass</th>\n",
       "      <th>Age</th>\n",
       "      <th>SibSp</th>\n",
       "      <th>Parch</th>\n",
       "      <th>Fare</th>\n",
       "      <th>Embarked</th>\n",
       "      <th>Sex_num</th>\n",
       "    </tr>\n",
       "  </thead>\n",
       "  <tbody>\n",
       "    <tr>\n",
       "      <th>0</th>\n",
       "      <td>0</td>\n",
       "      <td>3</td>\n",
       "      <td>22.0</td>\n",
       "      <td>1</td>\n",
       "      <td>0</td>\n",
       "      <td>7.2500</td>\n",
       "      <td>S</td>\n",
       "      <td>0</td>\n",
       "    </tr>\n",
       "    <tr>\n",
       "      <th>1</th>\n",
       "      <td>1</td>\n",
       "      <td>1</td>\n",
       "      <td>38.0</td>\n",
       "      <td>1</td>\n",
       "      <td>0</td>\n",
       "      <td>71.2833</td>\n",
       "      <td>C</td>\n",
       "      <td>1</td>\n",
       "    </tr>\n",
       "    <tr>\n",
       "      <th>2</th>\n",
       "      <td>1</td>\n",
       "      <td>3</td>\n",
       "      <td>26.0</td>\n",
       "      <td>0</td>\n",
       "      <td>0</td>\n",
       "      <td>7.9250</td>\n",
       "      <td>S</td>\n",
       "      <td>1</td>\n",
       "    </tr>\n",
       "    <tr>\n",
       "      <th>3</th>\n",
       "      <td>1</td>\n",
       "      <td>1</td>\n",
       "      <td>35.0</td>\n",
       "      <td>1</td>\n",
       "      <td>0</td>\n",
       "      <td>53.1000</td>\n",
       "      <td>S</td>\n",
       "      <td>1</td>\n",
       "    </tr>\n",
       "    <tr>\n",
       "      <th>4</th>\n",
       "      <td>0</td>\n",
       "      <td>3</td>\n",
       "      <td>35.0</td>\n",
       "      <td>0</td>\n",
       "      <td>0</td>\n",
       "      <td>8.0500</td>\n",
       "      <td>S</td>\n",
       "      <td>0</td>\n",
       "    </tr>\n",
       "  </tbody>\n",
       "</table>\n",
       "</div>"
      ],
      "text/plain": [
       "   Survived  Pclass   Age  SibSp  Parch     Fare Embarked  Sex_num\n",
       "0         0       3  22.0      1      0   7.2500        S        0\n",
       "1         1       1  38.0      1      0  71.2833        C        1\n",
       "2         1       3  26.0      0      0   7.9250        S        1\n",
       "3         1       1  35.0      1      0  53.1000        S        1\n",
       "4         0       3  35.0      0      0   8.0500        S        0"
      ]
     },
     "execution_count": 3,
     "metadata": {},
     "output_type": "execute_result"
    }
   ],
   "source": [
    "data_file = pd.read_csv(\"train.csv\")\n",
    "data_file = data_file.drop(['Ticket','Cabin','PassengerId','Name'], axis=1)\n",
    "data_file = data_file.dropna()\n",
    "\n",
    "def to_numeric_str(var):\n",
    "    if var=='male':\n",
    "        return 0\n",
    "    else:\n",
    "        return 1\n",
    "\n",
    "    \n",
    "data_file['Sex_num'] = 0\n",
    "data_file[['Sex_num']] = data_file[['Sex']].apply(lambda row: to_numeric_str(row['Sex']),axis=1)\n",
    "data_file = data_file.drop(['Sex'],axis=1)\n",
    "data_file[0:5]"
   ]
  },
  {
   "cell_type": "code",
   "execution_count": 4,
   "metadata": {
    "collapsed": false
   },
   "outputs": [
    {
     "name": "stderr",
     "output_type": "stream",
     "text": [
      "/home/vishal/.local/lib/python2.7/site-packages/ipykernel/__main__.py:7: VisibleDeprecationWarning: using a non-integer number instead of an integer will result in an error in the future\n"
     ]
    }
   ],
   "source": [
    "data = data_file.as_matrix()\n",
    "x_data = np.array([[x[1],x[2],x[3],x[4],x[5],x[7]] for x in data])\n",
    "#Converting into classes 1 and -1\n",
    "y_data = np.array([1 if x[0]==1 else -1 for x in data])\n",
    "\n",
    "#Splitting data into train/test 90 and 10 percent\n",
    "train_idx = np.random.choice(len(x_data), round(len(x_data)*0.9), replace=False)\n",
    "test_idx = np.array(list(set(range(len(x_data))) - set(train_idx)))\n",
    "x_train = x_data[train_idx]\n",
    "y_train = y_data[train_idx]\n",
    "\n",
    "x_test = x_data[test_idx]\n",
    "y_test = y_data[test_idx]\n"
   ]
  },
  {
   "cell_type": "code",
   "execution_count": 7,
   "metadata": {
    "collapsed": false
   },
   "outputs": [],
   "source": [
    "batch_size = 10\n",
    "learning_rate = 0.001\n",
    "\n",
    "graph_ = tf.Graph()\n",
    "with graph_.as_default():\n",
    "    #Creation of tensorflow graph\n",
    "    x_feed = tf.placeholder(shape = [None, 6], dtype = tf.float32)\n",
    "    y_feed = tf.placeholder(shape = [None, 1], dtype = tf.float32)\n",
    "    \n",
    "    #Declaration of seperator, for margin maximization\n",
    "    A = tf.Variable(tf.random_normal(shape=[6,1]))\n",
    "    b = tf.Variable(tf.random_normal(shape=[1,1]))\n",
    "    \n",
    "    #Eqation of line, y = Ax-b\n",
    "    out = tf.sub(tf.matmul(x_feed,A),b)\n",
    "    \n",
    "    #Maximize the norm(W)^2, here it is just W = A\n",
    "    l2_norm = tf.reduce_sum(tf.square(A))\n",
    "    \n",
    "    #Additionaly, for regularization, we add some more paramters\n",
    "    #regularization_term = max(0, 1-pred*actual)\n",
    "    alpha = tf.constant([0.001])\n",
    "    regularization_term = tf.reduce_mean(tf.maximum(0., tf.sub(1., tf.mul(out,y_feed))))\n",
    "    \n",
    "    #Loss function\n",
    "    loss = tf.add(regularization_term, tf.mul(alpha, l2_norm))\n",
    "    optimizer = tf.train.GradientDescentOptimizer(learning_rate)\n",
    "\n",
    "    #Defining varibales of interest\n",
    "    train_model = optimizer.minimize(loss)\n",
    "    \n",
    "    #We are interested in sign, depicting two classes\n",
    "    prediction = tf.sign(out)\n",
    "    nr_correct = tf.cast(tf.equal(prediction, y_feed), tf.float32)\n",
    "    accuracy = tf.reduce_mean(nr_correct)\n"
   ]
  },
  {
   "cell_type": "code",
   "execution_count": 8,
   "metadata": {
    "collapsed": false
   },
   "outputs": [
    {
     "name": "stdout",
     "output_type": "stream",
     "text": [
      "Initialized\n",
      "('Test accuracy at step ', 0, ' is ', 0.45070422)\n",
      "('Test accuracy at step ', 5000, ' is ', 0.73239434)\n",
      "('Test accuracy at step ', 10000, ' is ', 0.74647886)\n",
      "('Test accuracy at step ', 15000, ' is ', 0.80281693)\n",
      "('Test accuracy at step ', 20000, ' is ', 0.78873241)\n",
      "('Test accuracy at step ', 25000, ' is ', 0.80281693)\n",
      "('Test accuracy at step ', 30000, ' is ', 0.76056337)\n",
      "('Test accuracy at step ', 35000, ' is ', 0.78873241)\n",
      "('Test accuracy at step ', 40000, ' is ', 0.8309859)\n",
      "('Test accuracy at step ', 45000, ' is ', 0.76056337)\n",
      "('Test accuracy at step ', 50000, ' is ', 0.64788735)\n",
      "('Test accuracy at step ', 55000, ' is ', 0.78873241)\n",
      "('Test accuracy at step ', 60000, ' is ', 0.78873241)\n",
      "('Test accuracy at step ', 65000, ' is ', 0.81690139)\n",
      "('Test accuracy at step ', 70000, ' is ', 0.76056337)\n",
      "('Test accuracy at step ', 75000, ' is ', 0.78873241)\n",
      "('Test accuracy at step ', 80000, ' is ', 0.77464789)\n",
      "('Test accuracy at step ', 85000, ' is ', 0.78873241)\n",
      "('Test accuracy at step ', 90000, ' is ', 0.78873241)\n",
      "('Test accuracy at step ', 95000, ' is ', 0.78873241)\n"
     ]
    }
   ],
   "source": [
    "with tf.Session(graph=graph_) as sess:\n",
    "    tf.initialize_all_variables().run()\n",
    "    print('Initialized')\n",
    "    for i in range(100000):\n",
    "        random_batch_choice = np.random.choice(len(x_train), size = batch_size)\n",
    "        random_x = x_train[random_batch_choice]\n",
    "        random_y = np.transpose([y_train[random_batch_choice]])\n",
    "        sess.run(train_model, feed_dict={x_feed:random_x, y_feed:random_y})\n",
    "        test_accuracy = sess.run(accuracy, feed_dict={x_feed:x_test, y_feed:np.transpose([y_test])})\n",
    "        if(i%5000==0):\n",
    "            print(\"Test accuracy at step \", i, \" is \",test_accuracy)\n",
    "    #Get the answer for real data\n",
    "    #ans = sess.run(prediction, feed_dict={x_feed:x_data_ans})\n",
    "    #ans[0:5]"
   ]
  },
  {
   "cell_type": "code",
   "execution_count": null,
   "metadata": {
    "collapsed": true
   },
   "outputs": [],
   "source": []
  }
 ],
 "metadata": {
  "kernelspec": {
   "display_name": "Python 2",
   "language": "python",
   "name": "python2"
  },
  "language_info": {
   "codemirror_mode": {
    "name": "ipython",
    "version": 2
   },
   "file_extension": ".py",
   "mimetype": "text/x-python",
   "name": "python",
   "nbconvert_exporter": "python",
   "pygments_lexer": "ipython2",
   "version": "2.7.12"
  }
 },
 "nbformat": 4,
 "nbformat_minor": 1
}
