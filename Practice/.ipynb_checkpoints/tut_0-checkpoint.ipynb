{
 "cells": [
  {
   "cell_type": "code",
   "execution_count": 1,
   "metadata": {},
   "outputs": [
    {
     "name": "stdout",
     "output_type": "stream",
     "text": [
      "1.11.1\n",
      "0.18.1\n"
     ]
    }
   ],
   "source": [
    "import numpy as np\n",
    "print(np.__version__)\n",
    "import pandas as pd\n",
    "print(pd.__version__)"
   ]
  },
  {
   "cell_type": "code",
   "execution_count": 2,
   "metadata": {},
   "outputs": [
    {
     "name": "stdout",
     "output_type": "stream",
     "text": [
      "[0, 1, 2, 3, 4, 5, 6, 7, 8, 9]\n",
      "[10, 11, 12, 13, 14, 15, 16, 17, 18, 19]\n",
      "[<type 'int'>, <type 'int'>, <type 'int'>, <type 'int'>, <type 'int'>, <type 'int'>, <type 'int'>, <type 'int'>, <type 'int'>, <type 'int'>]\n"
     ]
    }
   ],
   "source": [
    "#List manipulation, python list can have multiple data type\n",
    "sample_list = list(range(10))\n",
    "print(sample_list)\n",
    "modified_list = [value+10 for value in sample_list]\n",
    "print(modified_list)\n",
    "print([type(value) for value in modified_list])"
   ]
  },
  {
   "cell_type": "code",
   "execution_count": 3,
   "metadata": {},
   "outputs": [
    {
     "name": "stdout",
     "output_type": "stream",
     "text": [
      "[0 1 2 3 4 5 6 7 8 9]\n",
      "[[ 1.78862847  0.43650985]\n",
      " [ 0.09649747 -1.8634927 ]]\n",
      "0.436509850512\n"
     ]
    }
   ],
   "source": [
    "#numpy list cannot have different data types\n",
    "np.random.seed(3)\n",
    "np_list = np.arange(0,10,1)\n",
    "print(np_list)\n",
    "np_arr =np.random.normal(0,1,(2,2)) #mean,std,(dimention)\n",
    "#help(np.random.normal)\n",
    "print(np_arr)\n",
    "print(np_arr[0,1])"
   ]
  },
  {
   "cell_type": "code",
   "execution_count": 4,
   "metadata": {},
   "outputs": [
    {
     "name": "stdout",
     "output_type": "stream",
     "text": [
      "[ 0  1  2  3  4  5  6  7  8  9 10 11 12 13 14 15 16 17 18 19]\n"
     ]
    }
   ],
   "source": [
    "np_list2 = np.array(modified_list)\n",
    "np_list2 = np.concatenate([np_list,np_list2])\n",
    "print(np_list2)\n",
    "#np.vstack and np.hstak to vertical and horizontal stacking similar to concatenate"
   ]
  },
  {
   "cell_type": "code",
   "execution_count": 5,
   "metadata": {},
   "outputs": [
    {
     "name": "stdout",
     "output_type": "stream",
     "text": [
      "[[10 11 12 13 14 15 16 17 18 19]\n",
      " [ 0  1  2  3  4  5  6  7  8  9]]\n"
     ]
    }
   ],
   "source": [
    "x1,x2 = np.split(np_list2,[10])\n",
    "grid = np.concatenate([x2,x1]).reshape(2,10)\n",
    "print(grid)\n",
    "#np.vsplit and np.hsplit works similarly"
   ]
  },
  {
   "cell_type": "code",
   "execution_count": 22,
   "metadata": {},
   "outputs": [
    {
     "data": {
      "text/html": [
       "<div>\n",
       "<table border=\"1\" class=\"dataframe\">\n",
       "  <thead>\n",
       "    <tr style=\"text-align: right;\">\n",
       "      <th></th>\n",
       "      <th>F1</th>\n",
       "      <th>Value</th>\n",
       "    </tr>\n",
       "  </thead>\n",
       "  <tbody>\n",
       "    <tr>\n",
       "      <th>0</th>\n",
       "      <td>v1</td>\n",
       "      <td>-1.488247</td>\n",
       "    </tr>\n",
       "    <tr>\n",
       "      <th>1</th>\n",
       "      <td>v2</td>\n",
       "      <td>-0.252834</td>\n",
       "    </tr>\n",
       "    <tr>\n",
       "      <th>2</th>\n",
       "      <td>v3</td>\n",
       "      <td>-0.607532</td>\n",
       "    </tr>\n",
       "    <tr>\n",
       "      <th>3</th>\n",
       "      <td>v4</td>\n",
       "      <td>-3.838166</td>\n",
       "    </tr>\n",
       "    <tr>\n",
       "      <th>4</th>\n",
       "      <td>v5</td>\n",
       "      <td>-0.847584</td>\n",
       "    </tr>\n",
       "    <tr>\n",
       "      <th>5</th>\n",
       "      <td>v6</td>\n",
       "      <td>-1.047752</td>\n",
       "    </tr>\n",
       "    <tr>\n",
       "      <th>6</th>\n",
       "      <td>v7</td>\n",
       "      <td>3.247956</td>\n",
       "    </tr>\n",
       "  </tbody>\n",
       "</table>\n",
       "</div>"
      ],
      "text/plain": [
       "   F1     Value\n",
       "0  v1 -1.488247\n",
       "1  v2 -0.252834\n",
       "2  v3 -0.607532\n",
       "3  v4 -3.838166\n",
       "4  v5 -0.847584\n",
       "5  v6 -1.047752\n",
       "6  v7  3.247956"
      ]
     },
     "execution_count": 22,
     "metadata": {},
     "output_type": "execute_result"
    }
   ],
   "source": [
    "sample_dict = {'F1':['v1','v2','v3','v4','v5','v6','v7'], 'Value':[val for val in np.random.normal(1,2,(7))]}\n",
    "sample_data = pd.DataFrame(sample_dict)\n",
    "sample_data"
   ]
  },
  {
   "cell_type": "code",
   "execution_count": 23,
   "metadata": {},
   "outputs": [
    {
     "data": {
      "text/html": [
       "<div>\n",
       "<table border=\"1\" class=\"dataframe\">\n",
       "  <thead>\n",
       "    <tr style=\"text-align: right;\">\n",
       "      <th></th>\n",
       "      <th>Value</th>\n",
       "    </tr>\n",
       "  </thead>\n",
       "  <tbody>\n",
       "    <tr>\n",
       "      <th>count</th>\n",
       "      <td>7.000000</td>\n",
       "    </tr>\n",
       "    <tr>\n",
       "      <th>mean</th>\n",
       "      <td>-0.690594</td>\n",
       "    </tr>\n",
       "    <tr>\n",
       "      <th>std</th>\n",
       "      <td>2.097871</td>\n",
       "    </tr>\n",
       "    <tr>\n",
       "      <th>min</th>\n",
       "      <td>-3.838166</td>\n",
       "    </tr>\n",
       "    <tr>\n",
       "      <th>25%</th>\n",
       "      <td>-1.267999</td>\n",
       "    </tr>\n",
       "    <tr>\n",
       "      <th>50%</th>\n",
       "      <td>-0.847584</td>\n",
       "    </tr>\n",
       "    <tr>\n",
       "      <th>75%</th>\n",
       "      <td>-0.430183</td>\n",
       "    </tr>\n",
       "    <tr>\n",
       "      <th>max</th>\n",
       "      <td>3.247956</td>\n",
       "    </tr>\n",
       "  </tbody>\n",
       "</table>\n",
       "</div>"
      ],
      "text/plain": [
       "          Value\n",
       "count  7.000000\n",
       "mean  -0.690594\n",
       "std    2.097871\n",
       "min   -3.838166\n",
       "25%   -1.267999\n",
       "50%   -0.847584\n",
       "75%   -0.430183\n",
       "max    3.247956"
      ]
     },
     "execution_count": 23,
     "metadata": {},
     "output_type": "execute_result"
    }
   ],
   "source": [
    "sample_data.describe() #It give summary of only integer and floating points columns"
   ]
  },
  {
   "cell_type": "code",
   "execution_count": 24,
   "metadata": {},
   "outputs": [
    {
     "name": "stdout",
     "output_type": "stream",
     "text": [
      "   F1     Value\n",
      "3  v4 -3.838166\n",
      "0  v1 -1.488247\n",
      "5  v6 -1.047752\n",
      "4  v5 -0.847584\n",
      "2  v3 -0.607532\n",
      "1  v2 -0.252834\n",
      "6  v7  3.247956\n"
     ]
    }
   ],
   "source": [
    "#pandas SQL query starts from here***\n",
    "sample_data = sample_data.append(sample_data, ignore_index=True)\n",
    "sample_data.sort_values(by=['Value'],ascending=True,inplace=True)\n",
    "#inplace for inplace sorting\n",
    "sample_data.sort_values(by='Value')\n",
    "sample_data = sample_data.drop_duplicates(subset='Value') #If column value is same\n",
    "print(sample_data)"
   ]
  },
  {
   "cell_type": "code",
   "execution_count": 25,
   "metadata": {},
   "outputs": [
    {
     "name": "stdout",
     "output_type": "stream",
     "text": [
      "<method 'lower' of 'str' objects>\n"
     ]
    }
   ],
   "source": [
    "#Mapping and apply with lamda function\n",
    "print(str.lower)"
   ]
  },
  {
   "cell_type": "code",
   "execution_count": null,
   "metadata": {
    "collapsed": true
   },
   "outputs": [],
   "source": [
    "#dictionary for map, map also work with function\n",
    "map_dict = {'v1':4, 'v2':2, 'v3':3, 'v4':4, 'v5':5, 'v6':6,'v7':7}\n",
    "sample_data['F1_num'] = sample_data['F1'].map(map_dict)\n",
    "\n",
    "#one liner functions lamda, ld = lambda x: x.size()\n"
   ]
  }
 ],
 "metadata": {
  "anaconda-cloud": {},
  "kernelspec": {
   "display_name": "Python [default]",
   "language": "python",
   "name": "python2"
  },
  "language_info": {
   "codemirror_mode": {
    "name": "ipython",
    "version": 2
   },
   "file_extension": ".py",
   "mimetype": "text/x-python",
   "name": "python",
   "nbconvert_exporter": "python",
   "pygments_lexer": "ipython2",
   "version": "2.7.12"
  }
 },
 "nbformat": 4,
 "nbformat_minor": 2
}
