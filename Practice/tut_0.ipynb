{
 "cells": [
  {
   "cell_type": "code",
   "execution_count": null,
   "metadata": {},
   "outputs": [],
   "source": [
    "import numpy as np\n",
    "print(np.__version__)\n",
    "import pandas as pd\n",
    "print(pd.__version__)"
   ]
  },
  {
   "cell_type": "code",
   "execution_count": null,
   "metadata": {},
   "outputs": [],
   "source": [
    "#List manipulation, python list can have multiple data type\n",
    "sample_list = list(range(10))\n",
    "print(sample_list)\n",
    "modified_list = [value+10 for value in sample_list]\n",
    "print(modified_list)\n",
    "print([type(value) for value in modified_list])"
   ]
  },
  {
   "cell_type": "code",
   "execution_count": null,
   "metadata": {},
   "outputs": [],
   "source": [
    "#numpy list cannot have different data types\n",
    "np.random.seed(3)\n",
    "np_list = np.arange(0,10,1)\n",
    "print(np_list)\n",
    "np_arr =np.random.normal(0,1,(2,2)) #mean,std,(dimention)\n",
    "#help(np.random.normal)\n",
    "print(np_arr)\n",
    "print(np_arr[0,1])"
   ]
  },
  {
   "cell_type": "code",
   "execution_count": null,
   "metadata": {},
   "outputs": [],
   "source": [
    "np_list2 = np.array(modified_list)\n",
    "np_list2 = np.concatenate([np_list,np_list2])\n",
    "print(np_list2)\n",
    "#np.vstack and np.hstak to vertical and horizontal stacking similar to concatenate"
   ]
  },
  {
   "cell_type": "code",
   "execution_count": null,
   "metadata": {},
   "outputs": [],
   "source": [
    "x1,x2 = np.split(np_list2,[10])\n",
    "grid = np.concatenate([x2,x1]).reshape(2,10)\n",
    "print(grid)\n",
    "#np.vsplit and np.hsplit works similarly"
   ]
  },
  {
   "cell_type": "code",
   "execution_count": null,
   "metadata": {},
   "outputs": [],
   "source": [
    "sample_dict = {'F1':['v1','v2','v3','v4','v5','v6','v7'], 'Value':[val for val in np.random.normal(1,2,(7))]}\n",
    "sample_data = pd.DataFrame(sample_dict)\n",
    "sample_data"
   ]
  },
  {
   "cell_type": "code",
   "execution_count": null,
   "metadata": {},
   "outputs": [],
   "source": [
    "sample_data.describe() #It give summary of only integer and floating points columns"
   ]
  },
  {
   "cell_type": "code",
   "execution_count": null,
   "metadata": {
    "collapsed": true
   },
   "outputs": [],
   "source": [
    "#pandas SQL query starts from here***"
   ]
  }
 ],
 "metadata": {
  "kernelspec": {
   "display_name": "Python 2",
   "language": "python",
   "name": "python2"
  },
  "language_info": {
   "codemirror_mode": {
    "name": "ipython",
    "version": 2
   },
   "file_extension": ".py",
   "mimetype": "text/x-python",
   "name": "python",
   "nbconvert_exporter": "python",
   "pygments_lexer": "ipython2",
   "version": "2.7.12"
  }
 },
 "nbformat": 4,
 "nbformat_minor": 2
}
