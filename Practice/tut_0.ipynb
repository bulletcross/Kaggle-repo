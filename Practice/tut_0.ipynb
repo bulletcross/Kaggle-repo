{
 "cells": [
  {
   "cell_type": "code",
   "execution_count": null,
   "metadata": {},
   "outputs": [],
   "source": [
    "import numpy as np\n",
    "print(np.__version__)\n",
    "import pandas as pd\n",
    "print(pd.__version__)"
   ]
  },
  {
   "cell_type": "code",
   "execution_count": null,
   "metadata": {},
   "outputs": [],
   "source": [
    "#List manipulation, python list can have multiple data type\n",
    "sample_list = list(range(10))\n",
    "print(sample_list)\n",
    "modified_list = [value+10 for value in sample_list]\n",
    "print(modified_list)\n",
    "print([type(value) for value in modified_list])"
   ]
  },
  {
   "cell_type": "code",
   "execution_count": null,
   "metadata": {},
   "outputs": [],
   "source": [
    "#numpy list cannot have different data types\n",
    "np.random.seed(3)\n",
    "np_list = np.arange(0,10,1)\n",
    "print(np_list)\n",
    "np_arr =np.random.normal(0,1,(2,2)) #mean,std,(dimention)\n",
    "#help(np.random.normal)\n",
    "print(np_arr)\n",
    "print(np_arr[0,1])"
   ]
  },
  {
   "cell_type": "code",
   "execution_count": null,
   "metadata": {},
   "outputs": [],
   "source": [
    "np_list2 = np.array(modified_list)\n",
    "np_list2 = np.concatenate([np_list,np_list2])\n",
    "print(np_list2)\n",
    "#np.vstack and np.hstak to vertical and horizontal stacking similar to concatenate"
   ]
  },
  {
   "cell_type": "code",
   "execution_count": null,
   "metadata": {},
   "outputs": [],
   "source": [
    "x1,x2 = np.split(np_list2,[10])\n",
    "grid = np.concatenate([x2,x1]).reshape(2,10)\n",
    "print(grid)\n",
    "#np.vsplit and np.hsplit works similarly"
   ]
  },
  {
   "cell_type": "code",
   "execution_count": null,
   "metadata": {},
   "outputs": [],
   "source": [
    "sample_dict = {'F1':['v1','v2','v3','v4','v5','v6','v7'], 'Value':[val for val in np.random.normal(1,2,(7))]}\n",
    "sample_data = pd.DataFrame(sample_dict)\n",
    "sample_data"
   ]
  },
  {
   "cell_type": "code",
   "execution_count": null,
   "metadata": {},
   "outputs": [],
   "source": [
    "sample_data.describe() #It give summary of only integer and floating points columns"
   ]
  },
  {
   "cell_type": "code",
   "execution_count": null,
   "metadata": {},
   "outputs": [],
   "source": [
    "#pandas SQL query starts from here***\n",
    "sample_data = sample_data.append(sample_data, ignore_index=True)\n",
    "sample_data.sort_values(by=['Value'],ascending=True,inplace=True)\n",
    "#inplace for inplace sorting\n",
    "sample_data.sort_values(by='Value')\n",
    "sample_data = sample_data.drop_duplicates(subset='Value') #If column value is same\n",
    "print(sample_data)"
   ]
  },
  {
   "cell_type": "code",
   "execution_count": null,
   "metadata": {},
   "outputs": [],
   "source": [
    "#Mapping and apply with lamda function\n",
    "print(str.lower)"
   ]
  },
  {
   "cell_type": "code",
   "execution_count": null,
   "metadata": {},
   "outputs": [],
   "source": [
    "#dictionary for map, map also work with function\n",
    "map_dict = {'v1':4, 'v2':2, 'v3':3, 'v4':4, 'v5':5, 'v6':6,'v7':7}\n",
    "sample_data['F1_num'] = sample_data['F1'].map(map_dict)\n",
    "\n",
    "#one liner functions lamda, ld = lambda x: x.size()\n",
    "def sign(num):\n",
    "    if num>=0:\n",
    "        return 'positive'\n",
    "    if num<0:\n",
    "        return 'negative'\n",
    "\n",
    "sample_data['sign'] = sample_data['Value'].apply(sign)\n",
    "sample_data = sample_data.assign(reverse = sample_data['Value']*-1)\n",
    "sample_data.drop('F1',axis='columns',inplace=True)\n",
    "print(sample_data)"
   ]
  },
  {
   "cell_type": "code",
   "execution_count": null,
   "metadata": {
    "collapsed": true
   },
   "outputs": [],
   "source": []
  }
 ],
 "metadata": {
  "anaconda-cloud": {},
  "kernelspec": {
   "display_name": "Python [default]",
   "language": "python",
   "name": "python2"
  },
  "language_info": {
   "codemirror_mode": {
    "name": "ipython",
    "version": 2
   },
   "file_extension": ".py",
   "mimetype": "text/x-python",
   "name": "python",
   "nbconvert_exporter": "python",
   "pygments_lexer": "ipython2",
   "version": "2.7.12"
  }
 },
 "nbformat": 4,
 "nbformat_minor": 2
}
