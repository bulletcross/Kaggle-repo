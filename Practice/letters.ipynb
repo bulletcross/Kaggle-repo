{
 "cells": [
  {
   "cell_type": "code",
   "execution_count": null,
   "metadata": {
    "collapsed": true
   },
   "outputs": [],
   "source": [
    "import pandas as pd\n",
    "import numpy as np\n",
    "import tensorflow as tf\n",
    "import csv"
   ]
  },
  {
   "cell_type": "code",
   "execution_count": null,
   "metadata": {
    "collapsed": false
   },
   "outputs": [],
   "source": [
    "#Reading data file\n",
    "raw_data = pd.read_csv('letter-recognition.data', sep=',',delimiter=None, header=None)\n",
    "\n",
    "#Processing data as X_all and Y_all\n",
    "X_all = raw_data.iloc[:,1:16]\n",
    "Y_all = raw_data.iloc[:,0]\n",
    "\n",
    "#Converting Y_all to hot vectors\n",
    "converter = lambda x: ord(x)-ord('A')\n",
    "Y_all = list(map(converter,Y_all.values.T.tolist()))\n",
    "Y_all = pd.get_dummies(Y_all).values\n"
   ]
  },
  {
   "cell_type": "code",
   "execution_count": null,
   "metadata": {
    "collapsed": false
   },
   "outputs": [],
   "source": [
    "print(X_all.shape)\n",
    "print(Y_all.shape)"
   ]
  },
  {
   "cell_type": "code",
   "execution_count": null,
   "metadata": {
    "collapsed": true
   },
   "outputs": [],
   "source": [
    "layer_info = [X_all.shape[1], 20, 30, Y_all.shape[1]]\n",
    "layer_size = len(layer_info)\n",
    "sess = tf.InteractiveSession()\n",
    "\n",
    "with tf.name_scope('input'):\n",
    "    X = tf.placeholder(tf.float32, [None, 15], name = 'X_INPUT')\n",
    "    Y = tf.placeholder(tf.float32, [None, 26], name = 'Y_INPUT')\n",
    "\n",
    "def initialize_param(layer_info):\n",
    "    weight_param = {}\n",
    "    bias_param = {}\n",
    "    for i in range(1,layer_size):\n",
    "        weight_param['W'+str(i)] = tf.Variable(tf.truncated_normal([layer_info[i], layer_info[i-1]], stddev = 0.1))\n",
    "        tf.summary.histogram('histogram', weight_param['W'+str(i)])\n",
    "        bias_param['b'+str(i)] = tf.Variable(tf.constant(0.1, layer_info[i]))\n",
    "        tf.summary.histogram('histogram', bias_param['b'+str(i)])\n",
    "    return (weight_param, bias_param)\n"
   ]
  },
  {
   "cell_type": "code",
   "execution_count": null,
   "metadata": {
    "collapsed": true
   },
   "outputs": [],
   "source": []
  }
 ],
 "metadata": {
  "kernelspec": {
   "display_name": "Python 3",
   "language": "python",
   "name": "python3"
  },
  "language_info": {
   "codemirror_mode": {
    "name": "ipython",
    "version": 3
   },
   "file_extension": ".py",
   "mimetype": "text/x-python",
   "name": "python",
   "nbconvert_exporter": "python",
   "pygments_lexer": "ipython3",
   "version": "3.6.0"
  }
 },
 "nbformat": 4,
 "nbformat_minor": 2
}
